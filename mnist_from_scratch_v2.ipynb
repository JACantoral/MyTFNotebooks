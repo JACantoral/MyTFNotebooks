{
 "cells": [
  {
   "cell_type": "markdown",
   "metadata": {},
   "source": [
    "# Low level Tensorflow model for MNIST/CIFAR10 classification\n",
    "Ok, I understand that there are many really good Tensorflow tutorials out there. I have completed a couple myself. Particularly, I cannot recommend enought those from Stanford CS231n and Andrew Ng's Deep Learning Coursera. However, when I tried to create my first own project from scratch I found myself having to look for help in my previous sample homeworks from CS231n and Coursera. Thus, I decided that to get a real understanding of Tensorflow, I had to complete some projects from zero, without any sort of template.\n",
    "Although this notebook is quite a selfish project to improve my proficiency, I reckon it may be of use to at least one individual out there in a similar situation, so feel free to use this code.\n",
    "For familiriaty, I will be using the ever useful MNIST database of handwritten characters.\n",
    "Please note that this Notebook assumes Deep Learning Understanding at a level of the courses mentioned above, as well as python, and is only a Tensorflow getting started tutorial from scratch.\n",
    "Also, please note that this notebook is the first of a 3-part series, the other two series will use CNNs and CIFAR10.\n"
   ]
  },
  {
   "cell_type": "code",
   "execution_count": 1,
   "metadata": {},
   "outputs": [],
   "source": [
    "# Import all the libraries\n",
    "import numpy as np\n",
    "import matplotlib.pyplot as plt\n",
    "import tensorflow as tf"
   ]
  },
  {
   "cell_type": "markdown",
   "metadata": {},
   "source": [
    "## Importing and preprocessing the data\n",
    "As mentioned before, I will be using MNIST and CIFAR10 for this notebook. \n",
    "We can use Tensorflow-Keras with the command 'tf.keras.datasets.mnist.load_data()' and download the database online, or we can download it from:\n",
    "https://storage.googleapis.com/tensorflow/tf-keras-datasets/mnist.npz\n",
    "For more detailed information on the MNIST dataset, please refer to [LeCun et al., 1998a] Y. LeCun, L. Bottou, Y. Bengio, and P. Haffner. \"Gradient-based learning applied to document recognition.\" Proceedings of the IEEE, 86(11):2278-2324, November 1998. Also please see http://yann.lecun.com/exdb/mnist/\n",
    "\n",
    "In a second experiment, we will use the CIFAR10 dataset, which we will download from Alex Krizhevsky website at University of Toronto at https://www.cs.toronto.edu/~kriz/cifar-10-python.tar.gz\n",
    "For more details of the CIFAR10, dataset please refer to https://www.cs.toronto.edu/~kriz/cifar.html or \n",
    "Krizhevsky, A., \"LearningMultipleLayersofFeaturesfromTinyImages\", 2009, https://www.cs.toronto.edu/~kriz/learning-features-2009-TR.pdf"
   ]
  },
  {
   "cell_type": "code",
   "execution_count": 2,
   "metadata": {},
   "outputs": [],
   "source": [
    "# Uncomment to use MNIST\n",
    "#(x_train, y_train), (x_test, y_test)= tf.keras.datasets.mnist.load_data()\n",
    "\n",
    "# Uncomment to use CIFAR10\n",
    "(x_train, y_train), (x_test, y_test)= tf.keras.datasets.cifar10.load_data()\n",
    "\n",
    "\n",
    "# Define dataset to use\n",
    "if x_test.shape[1] == 28:\n",
    "    dataset = 'MNIST'\n",
    "    PIXELS = 784\n",
    "else:\n",
    "    dataset = 'CIFAR10'\n",
    "    PIXELS = 3072"
   ]
  },
  {
   "cell_type": "code",
   "execution_count": 3,
   "metadata": {},
   "outputs": [
    {
     "name": "stdout",
     "output_type": "stream",
     "text": [
      "Train data shape:  (50000, 32, 32, 3)\n",
      "Train labels shape:  (50000, 1)\n",
      "Test data shape:  (10000, 32, 32, 3)\n",
      "Test labels shape:  (10000, 1)\n"
     ]
    }
   ],
   "source": [
    "# It is a good idea to visualise the data we just loaded.\n",
    "print('Train data shape: ', x_train.shape)\n",
    "print('Train labels shape: ', y_train.shape)\n",
    "print('Test data shape: ', x_test.shape)\n",
    "print('Test labels shape: ', y_test.shape)"
   ]
  },
  {
   "cell_type": "code",
   "execution_count": 4,
   "metadata": {},
   "outputs": [
    {
     "name": "stdout",
     "output_type": "stream",
     "text": [
      "Train image shape:  (32, 32, 3)\n"
     ]
    },
    {
     "data": {
      "text/plain": [
       "<matplotlib.image.AxesImage at 0x7fdf7849c198>"
      ]
     },
     "execution_count": 4,
     "metadata": {},
     "output_type": "execute_result"
    },
    {
     "data": {
      "image/png": "[encoded data removed]",
      "text/plain": [
       "<Figure size 432x288 with 1 Axes>"
      ]
     },
     "metadata": {
      "needs_background": "light"
     },
     "output_type": "display_data"
    }
   ],
   "source": [
    "# So, as expected we have 60,000 training images and 10,0000 for testing. What is\n",
    "# each image shape? Let's find out\n",
    "print('Train image shape: ', x_train[1].shape)\n",
    "\n",
    "# Knowing it is a matrix shape, we can randomly show any of the numbers\n",
    "rnd_idx = np.random.randint(x_train.shape[0])\n",
    "plt.imshow(x_train[rnd_idx].astype(np.int32)) #Using astype guarantess imshow work"
   ]
  },
  {
   "cell_type": "code",
   "execution_count": 5,
   "metadata": {},
   "outputs": [],
   "source": [
    "# For simplicity and to use default TF settings, we cast the data to int32 and float32\n",
    "# Since, the dataset is relatively small, in most cases, this is not a problem\n",
    "y_train = y_train.astype(np.int32).reshape(-1)\n",
    "y_test = y_test.astype(np.int32).reshape(-1)\n",
    "x_train = x_train.astype(np.float32)\n",
    "x_test = x_test.astype(np.float32)"
   ]
  },
  {
   "cell_type": "code",
   "execution_count": 6,
   "metadata": {},
   "outputs": [
    {
     "data": {
      "text/plain": [
       "True"
      ]
     },
     "execution_count": 6,
     "metadata": {},
     "output_type": "execute_result"
    }
   ],
   "source": [
    "# Check data types, not necessary, perhaps educational\n",
    "type(y_train)\n",
    "isinstance(y_test, np.ndarray) #validate if it is "
   ]
  },
  {
   "cell_type": "code",
   "execution_count": 7,
   "metadata": {},
   "outputs": [],
   "source": [
    "# Validate data are numpy arrays\n",
    "assert (isinstance(x_train, np.ndarray) and isinstance(y_train, np.ndarray)), 'No ndarray'"
   ]
  },
  {
   "cell_type": "code",
   "execution_count": 8,
   "metadata": {},
   "outputs": [
    {
     "data": {
      "text/plain": [
       "generator"
      ]
     },
     "execution_count": 8,
     "metadata": {},
     "output_type": "execute_result"
    }
   ],
   "source": [
    "# Here we define a function to divide our data in N mini batches, this is an important step, to allow for mini batch \n",
    "# gradient descent\n",
    "\n",
    "def mini_batches(mini_batch_size, data_x, data_y = None):\n",
    "    # First we validate the data is of the expected type, and the number of labels meet the number of training samples\n",
    "    assert data_x.shape[0] == data_y.shape[0], 'X number of samples not equal to Y number of samples'\n",
    "    assert (isinstance(data_x, np.ndarray) and isinstance(data_y, np.ndarray)), 'Data not numpy array'\n",
    "    \n",
    "    N = data_x.shape[0] # Get the number of samples\n",
    "    idxs = np.arange(N) \n",
    "    # Shuffle data, this may not be so critical in this example, but it is important for most applications, to avoid\n",
    "    # strong correlations in mini batches\n",
    "    np.random.shuffle(idxs)\n",
    "    data_x = data_x[idxs] # Shuffle training samples\n",
    "    data_y = data_y[idxs] # Shuffle labels (don't forget)\n",
    "    \n",
    "    # Finally return the data in minibatches of the desired size\n",
    "    # List comprehension is so cool, technically this is returning a generator but the principle is the same\n",
    "    return ((data_x[i:i+mini_batch_size], data_y[i:i+mini_batch_size]) for i in range(0, N, mini_batch_size))\n",
    "\n",
    "type(mini_batches(64, x_test, y_test)) # Check type returned by function"
   ]
  },
  {
   "cell_type": "code",
   "execution_count": 9,
   "metadata": {},
   "outputs": [
    {
     "data": {
      "text/plain": [
       "(1, 32, 32, 3)"
      ]
     },
     "execution_count": 9,
     "metadata": {},
     "output_type": "execute_result"
    }
   ],
   "source": [
    "x_train[:1].shape # In case we need to check the shape of one sample"
   ]
  },
  {
   "cell_type": "code",
   "execution_count": 10,
   "metadata": {
    "scrolled": false
   },
   "outputs": [],
   "source": [
    "# if using list comprehension instead of generator\n",
    "# a = mini_batches(500, x_test, y_test)\n",
    "# print((a[5][0].shape))"
   ]
  },
  {
   "cell_type": "code",
   "execution_count": 11,
   "metadata": {
    "scrolled": true
   },
   "outputs": [
    {
     "name": "stdout",
     "output_type": "stream",
     "text": [
      "0 (64, 32, 32, 3) (64,)\n",
      "1 (64, 32, 32, 3) (64,)\n",
      "2 (64, 32, 32, 3) (64,)\n",
      "3 (64, 32, 32, 3) (64,)\n",
      "4 (64, 32, 32, 3) (64,)\n",
      "5 (64, 32, 32, 3) (64,)\n",
      "6 (64, 32, 32, 3) (64,)\n",
      "7 (64, 32, 32, 3) (64,)\n",
      "8 (64, 32, 32, 3) (64,)\n",
      "9 (64, 32, 32, 3) (64,)\n"
     ]
    }
   ],
   "source": [
    "# To iterate through the data, we use something like this\n",
    "for t,(x,y) in enumerate(mini_batches(64, x_train, y_train)):\n",
    "    print(t, x.shape, y.shape) # Print the shape for each minibatch\n",
    "    if t > 8:\n",
    "        break # Stop after the first 10 minibatches"
   ]
  },
  {
   "cell_type": "markdown",
   "metadata": {},
   "source": [
    "## Start with tensorflow training\n",
    "\n",
    "In this notebook I show a very low level implementation, well not really I'm using Tensorflow, but still low level given TF standards. I reckon this is intuitive and shows what is going on, facilitating the transition to higher level TF and Keras in more complex projects.\n",
    "\n",
    "The approach followed in this notebook is to use functions to define the network architecture, and parameter initialization, as shown in the next cell"
   ]
  },
  {
   "cell_type": "code",
   "execution_count": 12,
   "metadata": {},
   "outputs": [],
   "source": [
    "# First, let's define the architecture of our FC networks.\n",
    "# I will start with a 4-Layer vanilla (tasty) FC NN with ReLu activations, weight decay regularization (L2),\n",
    "# using the number of hidden units given in, well, hidden_units\n",
    "\n",
    "\n",
    "def init_four_layer_FC(PIXELS, hidden_units):\n",
    "    '''\n",
    "    Initialise the parameters\n",
    "\n",
    "    Inputs:\n",
    "    - PIXELS: Scalar with total number of pixels in the image (for MNIST that would be 28x28 = 784)\n",
    "    - hidden_units: List with number of hidden neurons per layer\n",
    "\n",
    "    Outputs:\n",
    "    - Parameters: List with network parameters\n",
    "    '''\n",
    "    # Extract layer sizes\n",
    "    H1 = hidden_units[0]\n",
    "    H2 = hidden_units[1]\n",
    "    H3 = hidden_units[2]\n",
    "    classes = hidden_units[3]\n",
    "\n",
    "    #     Given that we only have 4 layers initializing with small random numbers should be fine, however we could\n",
    "    #     use a more roburs initialization like that in:   \n",
    "    #     He et al, *Delving Deep into Rectifiers: Surpassing Human-Level Performance on ImageNet Classification,\n",
    "    #     ICCV 2015, https://arxiv.org/abs/1502.01852\n",
    "    #     For example:\n",
    "    '''\n",
    "    w1 = tf.Variable(tf.random_normal(\n",
    "                             (PIXELS, hidden_units1), dtype=tf.float32) * np.sqrt(2.0 / PIXELS), \n",
    "                             dtype=tf.float32)\n",
    "    '''\n",
    "    # First, let's define the weights, we use variables because they are maintained in the graph and can be \n",
    "    # mutated through iterations. If we manually declare the learnable weights, tf.Variables are usally the ones\n",
    "    # to use\n",
    "\n",
    "    # Define 1st layer parameters, note that tf.float32 is the default type, however I leave explicit in case\n",
    "    # we wanted to use different type of data for particular purposes\n",
    "\n",
    "    # Weights are left as normal random with std = 0.01 and mean = 0\n",
    "    # Biases are set to zero\n",
    "    # Since they are learnable parameters they are set to zero\n",
    "\n",
    "    w1 = tf.Variable(tf.random_normal((PIXELS, H1), dtype=tf.float32) * 0.01, dtype=tf.float32, name='w1')\n",
    "    b1 = tf.Variable(tf.zeros(H1, dtype=tf.float32), dtype=tf.float32, name='b1')\n",
    "\n",
    "    w2 = tf.Variable(tf.random_normal((H1, H2), dtype=tf.float32) * 0.01, dtype=tf.float32, name='w2')\n",
    "    b2 = tf.Variable(tf.zeros(H2, dtype=tf.float32), dtype=tf.float32, name='b2')\n",
    "\n",
    "    w3 = tf.Variable(tf.random_normal((H2, H3), dtype=tf.float32) * 0.01, dtype=tf.float32, name='w3')\n",
    "    b3 = tf.Variable(tf.zeros(H3, dtype=tf.float32), dtype=tf.float32, name='b3')\n",
    "\n",
    "    w4 = tf.Variable(tf.random_normal((H3, classes), dtype=tf.float32) * 0.01, dtype=tf.float32, name='w4')\n",
    "    b4 = tf.Variable(tf.zeros(classes, dtype=tf.float32), dtype=tf.float32, name='b4')\n",
    "\n",
    "    # Return parameters\n",
    "    parameters = [w1, b1, w2, b2, w3, b3, w4, b4]\n",
    "\n",
    "    return parameters\n",
    "\n",
    "def four_layer_FC(PIXELS,x, parameters,dataset):\n",
    "    '''\n",
    "    Create the inference graph, define the network architecture\n",
    "    \n",
    "    Inputs:\n",
    "    - PIXELS: Scalar with total number of pixels in the image (for MNIST that would be 28x28 = 784)\n",
    "    - x: Tensor with training or test images of shape (N, 28, 28) for MNIST\n",
    "    - parameters: Tuple with all the learnable weights and biases\n",
    "    \n",
    "    '''\n",
    "    \n",
    "    # Verify that x Dimensions match \n",
    "    if dataset == 'MNIST':\n",
    "        assert x.shape[1] * x.shape[2] == PIXELS, 'Image dimensions not as expected'\n",
    "    else:\n",
    "        assert x.shape[1] * x.shape[2] * x.shape[3] == PIXELS, 'Image dimensions not as expected'\n",
    "    # Extract learning parameters\n",
    "    w1, b1, w2, b2, w3, b3, w4, b4 = parameters\n",
    "    # Implement architecture\n",
    "    x = tf.reshape(x,(-1, PIXELS))\n",
    "    \n",
    "    h1 = tf.matmul(x, w1) + b1\n",
    "    a1 = tf.nn.relu(h1)\n",
    "    \n",
    "    h2 = tf.matmul(a1, w2) + b2\n",
    "    a2 = tf.nn.relu(h2)\n",
    "    \n",
    "    h3 = tf.matmul(a2, w3) + b3\n",
    "    a3 = tf.nn.relu(h3)\n",
    "    \n",
    "    scores = tf.matmul(a3, w4) + b4\n",
    "\n",
    "    return scores\n",
    "   "
   ]
  },
  {
   "cell_type": "markdown",
   "metadata": {},
   "source": [
    "It is important to be sure that the model produces an expected output for a given input. Thus, the following step just veryfies that running data through produces a tensor of the expected shape."
   ]
  },
  {
   "cell_type": "code",
   "execution_count": 13,
   "metadata": {},
   "outputs": [
    {
     "name": "stdout",
     "output_type": "stream",
     "text": [
      "WARNING:tensorflow:From /home/josh/anaconda3/envs/cs231n/lib/python3.6/site-packages/tensorflow/python/framework/op_def_library.py:263: colocate_with (from tensorflow.python.framework.ops) is deprecated and will be removed in a future version.\n",
      "Instructions for updating:\n",
      "Colocations handled automatically by placer.\n",
      "(10, 10)\n"
     ]
    }
   ],
   "source": [
    "# Help function to test if the inference graph produces the expected output dimensions given an input\n",
    "# in this case the output should be of shape (N, 10)\n",
    "\n",
    "def test_FC(num_samples, dataset):\n",
    "    # Let us declare some useful constants\n",
    "    if dataset == 'MNIST':\n",
    "        PIXELS = x_test.shape[1] * x_test.shape[2]\n",
    "    elif dataset == 'CIFAR10':\n",
    "        PIXELS = x_test.shape[1] * x_test.shape[2] * x_test.shape[3]\n",
    "    hidden_units = [100, 100, 100, 10]\n",
    "    \n",
    "    # Reset the default graph\n",
    "    tf.reset_default_graph()\n",
    "    \n",
    "    # Define placeholder\n",
    "    if dataset == 'MNIST':\n",
    "        x = tf.placeholder(tf.float32, [None, 28, 28])\n",
    "    else:\n",
    "        x = tf.placeholder(tf.float32, [None, 32, 32, 3])\n",
    "    \n",
    "    # Obtain parameters\n",
    "    parameters = init_four_layer_FC(PIXELS, hidden_units)\n",
    "    \n",
    "    # Add scores to the graph\n",
    "    scores = four_layer_FC(PIXELS, x, parameters, dataset)\n",
    "    \n",
    "    # Create session and run it\n",
    "    with tf.Session() as sess:\n",
    "        sess.run(tf.global_variables_initializer())\n",
    "        test = sess.run(scores, feed_dict={x:x_train[:num_samples]})\n",
    "        print(test.shape)\n",
    "\n",
    "# Test our model output size\n",
    "test_FC(10, dataset)"
   ]
  },
  {
   "cell_type": "markdown",
   "metadata": {},
   "source": [
    "## Build the training model\n",
    "In this point we will start training our graph. For this we will use a Tensorflow session to run the inference graph and the training operations. This will look similiar to test_FC(), plus the required components to define a loss function and carry out learning step operations. For simplicity let us use vanilla Gradient Descent."
   ]
  },
  {
   "cell_type": "code",
   "execution_count": 14,
   "metadata": {},
   "outputs": [],
   "source": [
    "# This function defines the complete training graph\n",
    "\n",
    "def train_FC_model(hidden_units, \n",
    "                   num_epochs=10,\n",
    "                   PIXELS=784,\n",
    "                   learning_rate=0.05,\n",
    "                   reg=0,\n",
    "                   print_every=100,\n",
    "                   minibatch_size = 64):\n",
    "    '''\n",
    "    Train Tensorflow model\n",
    "    \n",
    "    Inputs:\n",
    "    - hidden_units: List with number of hidden neurons per layer\n",
    "    - num_epochs: Integer with the number of epochs to run, an epoch is a complete pass in the whole training set\n",
    "    - PIXELS: Scalar with total number of pixels\n",
    "    - learning_rate: Float with the learning rate to use for updates, i.e. the step size towards the minimum\n",
    "    - reg: L2 regularization strength, default is set to 0 for no regularization\n",
    "    - print_every: This is a helping variable to stop during training and evaluate loss functions and accuracy\n",
    "    - minibatch_size: Integer with the number of elements in minibatch\n",
    "    \n",
    "    Outputs:\n",
    "    - updated_parameters: List with update parameters\n",
    "    '''\n",
    "\n",
    "\n",
    "    # Reset default graph.\n",
    "    tf.reset_default_graph()\n",
    "    \n",
    "    # Define training data placeholders using expected MNIST data dimensions\n",
    "    if dataset == 'MNIST':\n",
    "        x = tf.placeholder(tf.float32, [None, 28, 28], name = 'x_train') # Training data\n",
    "        y = tf.placeholder(tf.int32,[None, ], name='y_train') # Labels\n",
    "    elif dataset == 'CIFAR10':\n",
    "        x = tf.placeholder(tf.float32, [None, 32, 32, 3], name = 'x_train') # Training data\n",
    "        y = tf.placeholder(tf.int32, [None, ], name = 'y_train') # Training data\n",
    "    \n",
    "    \n",
    "    \n",
    "    # Add these placeholders to graph in saver, this will allow for easy model restore\n",
    "    tf.add_to_collection('images', x)\n",
    "    tf.add_to_collection('labels', y)\n",
    "\n",
    "    # Load parameters by running the previously defined function\n",
    "    parameters = init_four_layer_FC(PIXELS, hidden_units)\n",
    "    \n",
    "    # Add scores to graph using the function we coded, and the parameters\n",
    "    scores = four_layer_FC(PIXELS, x, parameters, dataset)\n",
    "    \n",
    "    # Save scores to model, this is key since it will allow using it for inference after restore\n",
    "    tf.add_to_collection('scores', scores)\n",
    "    \n",
    "    # Once the scores are computed, we need to obtain our Loss. Given the data, we will use Cross entropy \n",
    "    # Using Tensorflow implementation of Cross entropy\n",
    "    losses = tf.nn.sparse_softmax_cross_entropy_with_logits(logits=scores, labels=y) # Each sample loss\n",
    "    data_loss = tf.reduce_mean(losses, name='loss') # take minibatch average\n",
    "    \n",
    "    # Should we want to use l2 regularization, default is zero, i.e., no regularization\n",
    "    reg_loss = tf.reduce_mean(reg * (tf.nn.l2_loss(parameters[0])\n",
    "                                     + tf.nn.l2_loss(parameters[2])\n",
    "                                     + tf.nn.l2_loss(parameters[4])\n",
    "                                     + tf.nn.l2_loss(parameters[0])))\n",
    "    \n",
    "    loss = data_loss + reg_loss # Compute total loss\n",
    "    \n",
    "    # Up to this point we have computed the complete forward pass of the data. \n",
    "    # Since, this is 'low level' Tensorflow we need to compute the gradients for the loss \n",
    "    # w.r.t. all the learnable parameters. As I said, low level but still Tensorflow. So let's use tf.gradients!\n",
    "    grad_parameters = tf.gradients(loss, parameters) # Loss gradient w.r.t. parameters\n",
    "\n",
    "    # We need to update the weights manually, for this we can use tf.assign, or tf.assing_sub\n",
    "    # Using SGD, we need to update each parameter independently, so list comprehension works well\n",
    "    updated_parameters = [tf.assign_sub(w, learning_rate * grad)\n",
    "                          for w, grad in zip(parameters, grad_parameters)]\n",
    "    \n",
    "    tf.add_to_collection('weights', updated_parameters)\n",
    "    \n",
    "    accuracies = np.zeros(10) # Helping variable to store accuracies\n",
    "    losses = np.zeros(10) # Helping variable to store accuracies\n",
    "    \n",
    "    # Create saver to save the model\n",
    "    saver = tf.train.Saver()\n",
    "    # Now, recall we have only created the graph, in order to run it and train, we need a Session\n",
    "    with tf.Session() as sess:\n",
    "        # Initialise variables\n",
    "        sess.run(tf.global_variables_initializer())\n",
    "        \n",
    "        # Train the model for num_epochs\n",
    "        for epoch in range(num_epochs):\n",
    "            \n",
    "            print('Epoch number: ', epoch) # Allow us to see what epoch we are running\n",
    "            \n",
    "            # Run the necessary iterations given the number of minibatches, this follows the function defined\n",
    "            # at the beginning of the notebook\n",
    "            for iteration,(x_mb, y_mb) in enumerate(mini_batches(minibatch_size, x_train, y_train)):\n",
    "                # The following line calculates the loss for the minibatch.\n",
    "                # Recall TF knows what is needed to run a function and will run accordinly, e.g. scores before the\n",
    "                # loss. Also note that we only need to feed the data needed into a placeholder. In this case, we \n",
    "                # feed the minibatch training samples and labels\n",
    "                loss_mb, update_param = sess.run([loss, updated_parameters], feed_dict={x:x_mb, y:y_mb})\n",
    "                \n",
    "                # The following condition allows a sanity check by printing accuracies and loss\n",
    "                if iteration % print_every == 0:\n",
    "                    # We define this function in the next cell\n",
    "                    accuracy = compute_accuracy(sess, minibatch_size, scores, x)\n",
    "                    accuracies[int(iteration/100)]=accuracy # save current accuracy\n",
    "                    losses[int(iteration/print_every)] = loss_mb\n",
    "                    print('Iteration: %d Loss: %f Accuracy: %f Learning rate: %f'\n",
    "                          %(iteration, loss_mb, accuracy, learning_rate))\n",
    "        \n",
    "        # We could use learning rate decay. There are several conditions we could test to define when to decay.\n",
    "        # E.g. we could use it when accuracy is over e.g. 90%, or the loss stays relatively flat\n",
    "            print('Last losses std: ', np.std(losses))\n",
    "            if np.std(losses) < 0.80:\n",
    "                learning_rate = 0.95 * learning_rate\n",
    "        # Save the \n",
    "        saver.save(sess, 'checkpoint_file')\n",
    "        \n",
    "    return update_param"
   ]
  },
  {
   "cell_type": "code",
   "execution_count": 15,
   "metadata": {},
   "outputs": [],
   "source": [
    "def compute_accuracy(sess, minibatch_size, scores, x):\n",
    "    '''\n",
    "    This function computes the accuracy of the current model\n",
    "    \n",
    "    Inputs:\n",
    "    - sess: it needs a current tf.Session to run the scores\n",
    "    - minibatch_size: The size of the mini batch to run the scores\n",
    "    - scores: TF operation to run\n",
    "    - x: test data\n",
    "    \n",
    "    Outputs:\n",
    "    - acc: Accuracy\n",
    "    \n",
    "    '''\n",
    "    num_samples = 0\n",
    "    num_correct = 0\n",
    "    for it, (xtest_mb, ytest_mb) in enumerate(mini_batches(minibatch_size, x_test, y_test)):\n",
    "        scores_test = sess.run(scores, feed_dict={x:xtest_mb})\n",
    "        y_pred = np.argmax(scores_test, axis=1)\n",
    "\n",
    "#         In case we would like to compare some elements of the predicted and ground truth arrays\n",
    "#         if it % 200 == 0:\n",
    "#             print('y_pred: ', y_pred[:10])\n",
    "#             print('y_test: ', ytest_mb[:10])\n",
    "\n",
    "        num_samples += xtest_mb.shape[0]\n",
    "        num_correct += np.sum(np.equal(y_pred, ytest_mb))\n",
    "    acc = float(num_correct) / num_samples\n",
    "    return acc"
   ]
  },
  {
   "cell_type": "code",
   "execution_count": 16,
   "metadata": {
    "scrolled": false
   },
   "outputs": [
    {
     "name": "stdout",
     "output_type": "stream",
     "text": [
      "Epoch number:  0\n",
      "Iteration: 0 Loss: 2.304721 Accuracy: 0.103000 Learning rate: 0.005000\n",
      "Iteration: 100 Loss: 2.224907 Accuracy: 0.137600 Learning rate: 0.005000\n",
      "Iteration: 200 Loss: 2.057334 Accuracy: 0.225600 Learning rate: 0.005000\n",
      "Iteration: 300 Loss: 2.018455 Accuracy: 0.261000 Learning rate: 0.005000\n",
      "Last losses std:  1.056570604110854\n",
      "Epoch number:  1\n",
      "Iteration: 0 Loss: 1.878428 Accuracy: 0.289400 Learning rate: 0.005000\n",
      "Iteration: 100 Loss: 1.982928 Accuracy: 0.268200 Learning rate: 0.005000\n",
      "Iteration: 200 Loss: 1.862534 Accuracy: 0.318100 Learning rate: 0.005000\n",
      "Iteration: 300 Loss: 1.799237 Accuracy: 0.323600 Learning rate: 0.005000\n",
      "Last losses std:  0.9223359600883845\n",
      "Epoch number:  2\n",
      "Iteration: 0 Loss: 1.802752 Accuracy: 0.341600 Learning rate: 0.005000\n",
      "Iteration: 100 Loss: 1.910864 Accuracy: 0.326000 Learning rate: 0.005000\n",
      "Iteration: 200 Loss: 1.893183 Accuracy: 0.334600 Learning rate: 0.005000\n",
      "Iteration: 300 Loss: 1.786185 Accuracy: 0.353200 Learning rate: 0.005000\n",
      "Last losses std:  0.9061067465689635\n",
      "Epoch number:  3\n",
      "Iteration: 0 Loss: 1.632721 Accuracy: 0.395000 Learning rate: 0.005000\n",
      "Iteration: 100 Loss: 1.632538 Accuracy: 0.374500 Learning rate: 0.005000\n",
      "Iteration: 200 Loss: 1.625954 Accuracy: 0.403500 Learning rate: 0.005000\n",
      "Iteration: 300 Loss: 1.649912 Accuracy: 0.377400 Learning rate: 0.005000\n",
      "Last losses std:  0.8011405464153695\n",
      "Epoch number:  4\n",
      "Iteration: 0 Loss: 1.712760 Accuracy: 0.387500 Learning rate: 0.005000\n",
      "Iteration: 100 Loss: 1.734252 Accuracy: 0.415300 Learning rate: 0.005000\n",
      "Iteration: 200 Loss: 1.849372 Accuracy: 0.403700 Learning rate: 0.005000\n",
      "Iteration: 300 Loss: 1.741615 Accuracy: 0.426000 Learning rate: 0.005000\n",
      "Last losses std:  0.8626258656450114\n",
      "Epoch number:  5\n",
      "Iteration: 0 Loss: 1.616988 Accuracy: 0.402700 Learning rate: 0.005000\n",
      "Iteration: 100 Loss: 1.570655 Accuracy: 0.393200 Learning rate: 0.005000\n",
      "Iteration: 200 Loss: 1.484597 Accuracy: 0.421300 Learning rate: 0.005000\n",
      "Iteration: 300 Loss: 1.546255 Accuracy: 0.412000 Learning rate: 0.005000\n",
      "Last losses std:  0.7622054996483251\n",
      "Epoch number:  6\n",
      "Iteration: 0 Loss: 1.873564 Accuracy: 0.372500 Learning rate: 0.004750\n",
      "Iteration: 100 Loss: 1.659047 Accuracy: 0.435100 Learning rate: 0.004750\n",
      "Iteration: 200 Loss: 1.708545 Accuracy: 0.441300 Learning rate: 0.004750\n",
      "Iteration: 300 Loss: 1.816758 Accuracy: 0.382700 Learning rate: 0.004750\n",
      "Last losses std:  0.8660831514653666\n",
      "Epoch number:  7\n",
      "Iteration: 0 Loss: 1.685526 Accuracy: 0.389200 Learning rate: 0.004750\n",
      "Iteration: 100 Loss: 1.684980 Accuracy: 0.440900 Learning rate: 0.004750\n",
      "Iteration: 200 Loss: 1.628330 Accuracy: 0.435100 Learning rate: 0.004750\n",
      "Iteration: 300 Loss: 1.492000 Accuracy: 0.457100 Learning rate: 0.004750\n",
      "Last losses std:  0.796528895625251\n",
      "Epoch number:  8\n",
      "Iteration: 0 Loss: 1.573028 Accuracy: 0.440000 Learning rate: 0.004513\n",
      "Iteration: 100 Loss: 1.490687 Accuracy: 0.452000 Learning rate: 0.004513\n",
      "Iteration: 200 Loss: 1.587635 Accuracy: 0.436200 Learning rate: 0.004513\n",
      "Iteration: 300 Loss: 1.559031 Accuracy: 0.456400 Learning rate: 0.004513\n",
      "Last losses std:  0.7609759400014732\n",
      "Epoch number:  9\n",
      "Iteration: 0 Loss: 1.494422 Accuracy: 0.440900 Learning rate: 0.004287\n",
      "Iteration: 100 Loss: 1.503108 Accuracy: 0.461400 Learning rate: 0.004287\n",
      "Iteration: 200 Loss: 1.530545 Accuracy: 0.450900 Learning rate: 0.004287\n",
      "Iteration: 300 Loss: 1.619751 Accuracy: 0.463200 Learning rate: 0.004287\n",
      "Last losses std:  0.7536056492388393\n",
      "Epoch number:  10\n",
      "Iteration: 0 Loss: 1.634795 Accuracy: 0.436600 Learning rate: 0.004073\n",
      "Iteration: 100 Loss: 1.461159 Accuracy: 0.429700 Learning rate: 0.004073\n",
      "Iteration: 200 Loss: 1.412190 Accuracy: 0.456200 Learning rate: 0.004073\n",
      "Iteration: 300 Loss: 1.451097 Accuracy: 0.466400 Learning rate: 0.004073\n",
      "Last losses std:  0.7318639878400003\n",
      "Epoch number:  11\n",
      "Iteration: 0 Loss: 1.678644 Accuracy: 0.477800 Learning rate: 0.003869\n",
      "Iteration: 100 Loss: 1.409473 Accuracy: 0.476900 Learning rate: 0.003869\n",
      "Iteration: 200 Loss: 1.376909 Accuracy: 0.467400 Learning rate: 0.003869\n",
      "Iteration: 300 Loss: 1.440728 Accuracy: 0.468000 Learning rate: 0.003869\n",
      "Last losses std:  0.7272030462326671\n",
      "Epoch number:  12\n",
      "Iteration: 0 Loss: 1.483394 Accuracy: 0.484700 Learning rate: 0.003675\n",
      "Iteration: 100 Loss: 1.439341 Accuracy: 0.477500 Learning rate: 0.003675\n",
      "Iteration: 200 Loss: 1.406336 Accuracy: 0.474000 Learning rate: 0.003675\n",
      "Iteration: 300 Loss: 1.484543 Accuracy: 0.461600 Learning rate: 0.003675\n",
      "Last losses std:  0.7123200712183607\n",
      "Epoch number:  13\n",
      "Iteration: 0 Loss: 1.404778 Accuracy: 0.471500 Learning rate: 0.003492\n",
      "Iteration: 100 Loss: 1.680588 Accuracy: 0.476700 Learning rate: 0.003492\n",
      "Iteration: 200 Loss: 1.477091 Accuracy: 0.488600 Learning rate: 0.003492\n",
      "Iteration: 300 Loss: 1.660334 Accuracy: 0.435900 Learning rate: 0.003492\n",
      "Last losses std:  0.7657657354866918\n",
      "Epoch number:  14\n",
      "Iteration: 0 Loss: 1.386606 Accuracy: 0.477900 Learning rate: 0.003317\n",
      "Iteration: 100 Loss: 1.353342 Accuracy: 0.485700 Learning rate: 0.003317\n",
      "Iteration: 200 Loss: 1.406316 Accuracy: 0.489700 Learning rate: 0.003317\n",
      "Iteration: 300 Loss: 1.450604 Accuracy: 0.475900 Learning rate: 0.003317\n",
      "Last losses std:  0.6858348873987088\n",
      "Epoch number:  15\n",
      "Iteration: 0 Loss: 1.491975 Accuracy: 0.439600 Learning rate: 0.003151\n",
      "Iteration: 100 Loss: 1.507119 Accuracy: 0.473600 Learning rate: 0.003151\n",
      "Iteration: 200 Loss: 1.361850 Accuracy: 0.489800 Learning rate: 0.003151\n",
      "Iteration: 300 Loss: 1.546599 Accuracy: 0.486300 Learning rate: 0.003151\n",
      "Last losses std:  0.7248512721675765\n",
      "Epoch number:  16\n",
      "Iteration: 0 Loss: 1.544622 Accuracy: 0.458100 Learning rate: 0.002994\n",
      "Iteration: 100 Loss: 1.364993 Accuracy: 0.479900 Learning rate: 0.002994\n",
      "Iteration: 200 Loss: 1.361426 Accuracy: 0.496100 Learning rate: 0.002994\n",
      "Iteration: 300 Loss: 1.405944 Accuracy: 0.487400 Learning rate: 0.002994\n",
      "Last losses std:  0.6968792454033182\n",
      "Epoch number:  17\n",
      "Iteration: 0 Loss: 1.304432 Accuracy: 0.483000 Learning rate: 0.002844\n",
      "Iteration: 100 Loss: 1.214250 Accuracy: 0.483000 Learning rate: 0.002844\n",
      "Iteration: 200 Loss: 1.504096 Accuracy: 0.467300 Learning rate: 0.002844\n",
      "Iteration: 300 Loss: 1.297855 Accuracy: 0.488900 Learning rate: 0.002844\n",
      "Last losses std:  0.6551157211749499\n",
      "Epoch number:  18\n",
      "Iteration: 0 Loss: 1.240255 Accuracy: 0.466500 Learning rate: 0.002702\n",
      "Iteration: 100 Loss: 1.466082 Accuracy: 0.466400 Learning rate: 0.002702\n",
      "Iteration: 200 Loss: 1.243340 Accuracy: 0.506700 Learning rate: 0.002702\n",
      "Iteration: 300 Loss: 1.312208 Accuracy: 0.492000 Learning rate: 0.002702\n",
      "Last losses std:  0.647044719899146\n",
      "Epoch number:  19\n",
      "Iteration: 0 Loss: 1.247725 Accuracy: 0.507200 Learning rate: 0.002567\n",
      "Iteration: 100 Loss: 1.320489 Accuracy: 0.489100 Learning rate: 0.002567\n",
      "Iteration: 200 Loss: 1.449851 Accuracy: 0.490500 Learning rate: 0.002567\n",
      "Iteration: 300 Loss: 1.144763 Accuracy: 0.486100 Learning rate: 0.002567\n",
      "Last losses std:  0.6362058607971172\n",
      "WARNING:tensorflow:Issue encountered when serializing weights.\n",
      "Type is unsupported, or the types of the items don't match field type in CollectionDef. Note this is a warning and probably safe to ignore.\n",
      "'list' object has no attribute 'name'\n"
     ]
    }
   ],
   "source": [
    "# Define number of neurons (units) in each hidden layer\n",
    "hidden_units = [100, 100, 100, 10]\n",
    "\n",
    "# Train the model and save weights\n",
    "updated_parameters =  train_FC_model(hidden_units=hidden_units, \n",
    "                                     num_epochs=20,\n",
    "                                     PIXELS=PIXELS, \n",
    "                                     learning_rate=0.005,\n",
    "                                     minibatch_size=128,\n",
    "                                     reg= 0.0, \n",
    "                                     print_every=100)"
   ]
  },
  {
   "cell_type": "code",
   "execution_count": 17,
   "metadata": {},
   "outputs": [
    {
     "name": "stdout",
     "output_type": "stream",
     "text": [
      "['w1', 'b1', 'w2', 'b2', 'w3', 'b3', 'w4', 'b4']\n"
     ]
    }
   ],
   "source": [
    "# This instruction is not needed for the tutorial but it is useful to know the variablse in the graph\n",
    "auxL = [op.name for op in tf.get_default_graph().get_operations() if op.op_def and op.op_def.name=='VariableV2']\n",
    "print(auxL)"
   ]
  },
  {
   "cell_type": "code",
   "execution_count": 18,
   "metadata": {},
   "outputs": [
    {
     "name": "stdout",
     "output_type": "stream",
     "text": [
      "The predicted class is:  Automobile\n"
     ]
    },
    {
     "data": {
      "image/png": "[encoded data removed]",
      "text/plain": [
       "<Figure size 432x288 with 1 Axes>"
      ]
     },
     "metadata": {
      "needs_background": "light"
     },
     "output_type": "display_data"
    }
   ],
   "source": [
    "hidden_units = [100, 100, 100, 10]\n",
    "if dataset == 'MNIST':\n",
    "    x = tf.placeholder(tf.float32, [1, 28, 28])\n",
    "    classes = ['Zero', 'One', 'Two', 'Three', 'Four', 'Five',\n",
    "              'Six', 'Seven', 'Eight', 'Nine']\n",
    "elif dataset == 'CIFAR10':\n",
    "    x = tf.placeholder(tf.float32, [1, 32, 32, 3])\n",
    "    classes = ['Airplane', 'Automobile', 'Bird', 'Cat', 'Deer',\n",
    "              'Dog', 'Frog', 'Horse', 'Ship', 'Truck']\n",
    "#parameters = init_four_layer_FC(784, hidden_units)\n",
    "# Add scores\n",
    "scores = four_layer_FC(PIXELS, x, updated_parameters,dataset)    \n",
    "#eval_op = tf.nn.top_k(scores)\n",
    "\n",
    "idx = np.random.randint(10000)\n",
    "\n",
    "init = tf.global_variables_initializer()\n",
    "with tf.Session() as sess:\n",
    "    sess.run(init)\n",
    "    if dataset=='MNIST':\n",
    "        scores2 = sess.run(scores, feed_dict={x:x_test[idx].reshape(1, 28, 28)})\n",
    "    else:\n",
    "        scores2 = sess.run(scores, feed_dict={x:x_test[idx].reshape(1, 32, 32, 3)})\n",
    "        \n",
    "    print('The predicted class is: ', classes[np.argmax(scores2)])\n",
    "    plt.imshow(x_test[idx].astype(np.int32))"
   ]
  },
  {
   "cell_type": "markdown",
   "metadata": {},
   "source": [
    "## Load the previously trained model\n",
    "\n",
    "So far we have trained the complete model, computed its accuracy, and validated it with random samples. However, we did the whole process in one go. Since the dataset is relatively simple this is not an issue, nonetheless this would be prohibiting for more complex and larger datasets. Since we saved our trained model, we can just load it and test it."
   ]
  },
  {
   "cell_type": "code",
   "execution_count": 22,
   "metadata": {
    "scrolled": false
   },
   "outputs": [
    {
     "name": "stdout",
     "output_type": "stream",
     "text": [
      "INFO:tensorflow:Restoring parameters from checkpoint_file\n",
      "The predited number is:  Horse\n"
     ]
    },
    {
     "data": {
      "image/png": "[encoded data removed]",
      "text/plain": [
       "<Figure size 432x288 with 1 Axes>"
      ]
     },
     "metadata": {
      "needs_background": "light"
     },
     "output_type": "display_data"
    }
   ],
   "source": [
    "if dataset == 'MNIST':\n",
    "    x = tf.placeholder(tf.float32, [1, 28, 28])\n",
    "    classes = ['Zero', 'One', 'Two', 'Three', 'Four', 'Five',\n",
    "              'Six', 'Seven', 'Eight', 'Nine']\n",
    "elif dataset == 'CIFAR10':\n",
    "    x = tf.placeholder(tf.float32, [1, 32, 32, 3])\n",
    "    classes = ['Airplane', 'Automobile', 'Bird', 'Cat', 'Deer',\n",
    "              'Dog', 'Frog', 'Horse', 'Ship', 'Truck']\n",
    "\n",
    "with tf.Session() as sess2:\n",
    "    # Load saved Model\n",
    "    saver = tf.train.import_meta_graph('checkpoint_file.meta')\n",
    "    saver.restore(sess2, 'checkpoint_file')\n",
    "    \n",
    "    # Load saved points\n",
    "    # Scores includes the complete model, with final parameters\n",
    "    scores = tf.get_collection('scores')[0]\n",
    "    # Saved placeholders, since we only want to run the inference graph, we only load x\n",
    "    x = tf.get_collection('images')[0]\n",
    "    \n",
    "    # Choose radom point in test data\n",
    "    idx = np.random.randint(10000)\n",
    "    plt.imshow(x_test[idx].astype(np.int32))\n",
    "    \n",
    "    # Calculate the score\n",
    "    if dataset=='MNIST':\n",
    "        scores2 = sess2.run(scores, feed_dict={x:x_test[idx].reshape(1, 28, 28)})\n",
    "    else:\n",
    "        scores2 = sess2.run(scores, feed_dict={x:x_test[idx].reshape(1, 32, 32, 3)})\n",
    "        \n",
    "    print('The predited number is: ', classes[np.argmax(scores2)])\n"
   ]
  },
  {
   "cell_type": "code",
   "execution_count": null,
   "metadata": {},
   "outputs": [],
   "source": []
  }
 ],
 "metadata": {
  "kernelspec": {
   "display_name": "Python 3",
   "language": "python",
   "name": "python3"
  },
  "language_info": {
   "codemirror_mode": {
    "name": "ipython",
    "version": 3
   },
   "file_extension": ".py",
   "mimetype": "text/x-python",
   "name": "python",
   "nbconvert_exporter": "python",
   "pygments_lexer": "ipython3",
   "version": "3.6.7"
  }
 },
 "nbformat": 4,
 "nbformat_minor": 2
}
