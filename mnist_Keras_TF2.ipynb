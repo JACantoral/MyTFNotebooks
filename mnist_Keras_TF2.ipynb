{
 "cells": [
  {
   "cell_type": "markdown",
   "metadata": {},
   "source": [
    "# High level Tensorflow model for MNIST/CIFAR10 classification\n",
    "After completing the very low level Tensorflow tutorial, we will now implement the Keras approach\n"
   ]
  },
  {
   "cell_type": "code",
   "execution_count": 1,
   "metadata": {},
   "outputs": [
    {
     "data": {
      "text/html": [
       "<style>.container { width:100% !important; }</style>"
      ],
      "text/plain": [
       "<IPython.core.display.HTML object>"
      ]
     },
     "metadata": {},
     "output_type": "display_data"
    }
   ],
   "source": [
    "from IPython.core.display import display, HTML\n",
    "display(HTML(\"<style>.container { width:100% !important; }</style>\"))"
   ]
  },
  {
   "cell_type": "code",
   "execution_count": 2,
   "metadata": {},
   "outputs": [],
   "source": [
    "# Import all the libraries\n",
    "import numpy as np\n",
    "import matplotlib.pyplot as plt\n",
    "import tensorflow as tf"
   ]
  },
  {
   "cell_type": "markdown",
   "metadata": {},
   "source": [
    "## Importing and preprocessing the data\n",
    "I will be using MNIST for this notebook. \n",
    "We can use Tensorflow-Keras with the command 'tf.keras.datasets.mnist.load_data()' and download the database online, or we can download it from:\n",
    "https://storage.googleapis.com/tensorflow/tf-keras-datasets/mnist.npz\n",
    "For more detailed information on the MNIST dataset, please refer to [LeCun et al., 1998a] Y. LeCun, L. Bottou, Y. Bengio, and P. Haffner. \"Gradient-based learning applied to document recognition.\" Proceedings of the IEEE, 86(11):2278-2324, November 1998. Also please see http://yann.lecun.com/exdb/mnist/\n"
   ]
  },
  {
   "cell_type": "code",
   "execution_count": 3,
   "metadata": {},
   "outputs": [],
   "source": [
    "# # Uncomment to use MNIST\n",
    "# # (x_train, y_train), (x_test, y_test)= tf.keras.datasets.mnist.load_data()\n",
    "(x_train, y_train), (x_test, y_test)= tf.keras.datasets.mnist.load_data('/tf/mydata/mnist.npz')\n",
    "\n",
    "x_train, x_test = x_train / 255.0, x_test / 255.0"
   ]
  },
  {
   "cell_type": "code",
   "execution_count": 4,
   "metadata": {},
   "outputs": [
    {
     "name": "stdout",
     "output_type": "stream",
     "text": [
      "Train data shape:  (60000, 28, 28)\n",
      "Train labels shape:  (60000,)\n",
      "Test data shape:  (10000, 28, 28)\n",
      "Test labels shape:  (10000,)\n"
     ]
    }
   ],
   "source": [
    "# It is a good idea to visualise the data we just loaded.\n",
    "print('Train data shape: ', x_train.shape)\n",
    "print('Train labels shape: ', y_train.shape)\n",
    "print('Test data shape: ', x_test.shape)\n",
    "print('Test labels shape: ', y_test.shape)"
   ]
  },
  {
   "cell_type": "code",
   "execution_count": 5,
   "metadata": {},
   "outputs": [
    {
     "name": "stdout",
     "output_type": "stream",
     "text": [
      "Train image shape:  (28, 28)\n"
     ]
    },
    {
     "data": {
      "text/plain": [
       "<matplotlib.image.AxesImage at 0x7f9522010390>"
      ]
     },
     "execution_count": 5,
     "metadata": {},
     "output_type": "execute_result"
    },
    {
     "data": {
      "image/png": "[encoded data removed]",
      "text/plain": [
       "<Figure size 432x288 with 1 Axes>"
      ]
     },
     "metadata": {
      "needs_background": "light"
     },
     "output_type": "display_data"
    }
   ],
   "source": [
    "# So, as expected we have 60,000 training images and 10,0000 for testing. What is\n",
    "# each image shape? Let's find out\n",
    "print('Train image shape: ', x_train[1].shape)\n",
    "\n",
    "# Knowing it is a matrix shape, we can randomly show any of the numbers\n",
    "rnd_idx = np.random.randint(x_train.shape[0])\n",
    "plt.imshow(x_train[rnd_idx]) #Using astype guarantess imshow work"
   ]
  },
  {
   "cell_type": "markdown",
   "metadata": {},
   "source": [
    "## Using Keras Sequential\n",
    "\n",
    "In this notebook I will show a super simple implementation using high level Keras with automatic eager execution.\n"
   ]
  },
  {
   "cell_type": "code",
   "execution_count": 6,
   "metadata": {},
   "outputs": [],
   "source": [
    "# First, let's define the architecture of our FC networks.\n",
    "# I will start with a 4-Layer vanilla (tasty) FC NN with ReLu activations, weight decay regularization (L2),\n",
    "# using the number of hidden units given in, well, hidden_units\n",
    "\n",
    "def four_layer_FC(hidden_units):\n",
    "    model = tf.keras.models.Sequential([\n",
    "                            tf.keras.layers.Flatten(input_shape=(28, 28)),\n",
    "                            tf.keras.layers.Dense(hidden_units[0], activation='relu'),\n",
    "                            tf.keras.layers.Dense(hidden_units[1], activation='relu'),\n",
    "                            tf.keras.layers.Dense(hidden_units[2], activation='relu'),\n",
    "                            tf.keras.layers.Dense(hidden_units[3], activation='softmax')\n",
    "                            ])\n",
    "    \n",
    "    return model"
   ]
  },
  {
   "cell_type": "code",
   "execution_count": 7,
   "metadata": {},
   "outputs": [],
   "source": [
    "hidden_units = [100, 100, 100, 10]\n",
    "model = four_layer_FC(hidden_units)\n",
    "\n",
    "model.compile(optimizer='sgd',\n",
    "              loss='sparse_categorical_crossentropy',\n",
    "              metrics=['accuracy'])"
   ]
  },
  {
   "cell_type": "code",
   "execution_count": 8,
   "metadata": {},
   "outputs": [
    {
     "name": "stdout",
     "output_type": "stream",
     "text": [
      "Train on 60000 samples\n",
      "Epoch 1/10\n",
      "60000/60000 [==============================] - 2s 27us/sample - loss: 1.4351 - accuracy: 0.6286\n",
      "Epoch 2/10\n",
      "60000/60000 [==============================] - 1s 16us/sample - loss: 0.4878 - accuracy: 0.8681\n",
      "Epoch 3/10\n",
      "60000/60000 [==============================] - 1s 16us/sample - loss: 0.3724 - accuracy: 0.8935\n",
      "Epoch 4/10\n",
      "60000/60000 [==============================] - 1s 16us/sample - loss: 0.3281 - accuracy: 0.9056\n",
      "Epoch 5/10\n",
      "60000/60000 [==============================] - 1s 16us/sample - loss: 0.2997 - accuracy: 0.9137\n",
      "Epoch 6/10\n",
      "60000/60000 [==============================] - 1s 15us/sample - loss: 0.2779 - accuracy: 0.9198\n",
      "Epoch 7/10\n",
      "60000/60000 [==============================] - 1s 16us/sample - loss: 0.2597 - accuracy: 0.9253\n",
      "Epoch 8/10\n",
      "60000/60000 [==============================] - 1s 16us/sample - loss: 0.2435 - accuracy: 0.9304\n",
      "Epoch 9/10\n",
      "60000/60000 [==============================] - 1s 16us/sample - loss: 0.2293 - accuracy: 0.9346\n",
      "Epoch 10/10\n",
      "60000/60000 [==============================] - 1s 16us/sample - loss: 0.2164 - accuracy: 0.9379\n",
      "10000/1 - 0s - loss: 0.1803 - accuracy: 0.9372\n"
     ]
    },
    {
     "data": {
      "text/plain": [
       "[0.21206765420883894, 0.9372]"
      ]
     },
     "execution_count": 8,
     "metadata": {},
     "output_type": "execute_result"
    }
   ],
   "source": [
    "model.fit(x_train, y_train, batch_size = 128, epochs=10)\n",
    "\n",
    "\n",
    "model.evaluate(x_test,  y_test, verbose=2)\n"
   ]
  },
  {
   "cell_type": "code",
   "execution_count": 16,
   "metadata": {},
   "outputs": [
    {
     "name": "stdout",
     "output_type": "stream",
     "text": [
      "The predicted number is:  6\n"
     ]
    },
    {
     "data": {
      "image/png": "[encoded data removed]",
      "text/plain": [
       "<Figure size 432x288 with 1 Axes>"
      ]
     },
     "metadata": {
      "needs_background": "light"
     },
     "output_type": "display_data"
    }
   ],
   "source": [
    "# Let us test the result\n",
    "idx = np.random.randint(10000)\n",
    "\n",
    "plt.imshow(x_test[idx])\n",
    "print('The predicted number is: ', np.argmax(model.predict(x_test[idx].reshape(1,28,28))))"
   ]
  },
  {
   "cell_type": "markdown",
   "metadata": {},
   "source": [
    "## Using Keras"
   ]
  },
  {
   "cell_type": "code",
   "execution_count": 17,
   "metadata": {},
   "outputs": [],
   "source": [
    "(x_train, y_train), (x_test, y_test)= tf.keras.datasets.mnist.load_data('/tf/mydata/mnist.npz')\n",
    "\n",
    "x_train, x_test = x_train / 255.0, x_test / 255.0"
   ]
  },
  {
   "cell_type": "code",
   "execution_count": 28,
   "metadata": {},
   "outputs": [],
   "source": [
    "batch_size = 512\n",
    "train_ds = tf.data.Dataset.from_tensor_slices(\n",
    "    (x_train, y_train)).shuffle(60000).batch(batch_size)\n",
    "\n",
    "test_ds = tf.data.Dataset.from_tensor_slices((x_test, y_test)).batch(batch_size)"
   ]
  },
  {
   "cell_type": "code",
   "execution_count": 19,
   "metadata": {},
   "outputs": [
    {
     "name": "stdout",
     "output_type": "stream",
     "text": [
      "(64, 10)\n"
     ]
    }
   ],
   "source": [
    "# First let us define the architecture\n",
    "\n",
    "class four_layer_FC2(tf.keras.Model):\n",
    "    def __init__(self, hidden_units):\n",
    "        super().__init__()\n",
    "        initialiser = tf.keras.initializers.he_normal(seed=None)\n",
    "        self.flatten_layer = tf.keras.layers.Flatten()\n",
    "        self.fc1 = tf.keras.layers.Dense(units=hidden_units[0], \n",
    "                                         activation='relu', \n",
    "                                         kernel_initializer=initialiser)\n",
    "        self.fc2 = tf.keras.layers.Dense(units=hidden_units[1], \n",
    "                                         activation='relu', \n",
    "                                         kernel_initializer=initialiser)\n",
    "        self.fc3 = tf.keras.layers.Dense(units=hidden_units[2], \n",
    "                                         activation='relu',\n",
    "                                         kernel_initializer=initialiser)\n",
    "        self.probs = tf.keras.layers.Dense(units=hidden_units[3],\n",
    "                                          activation='softmax')\n",
    "        \n",
    "    def call(self, x):\n",
    "        x = self.flatten_layer(x)\n",
    "        x = self.fc1(x)\n",
    "        x = self.fc2(x)\n",
    "        x = self.fc3(x)\n",
    "        x = self.probs(x)\n",
    "        \n",
    "        return x\n",
    "\n",
    "hidden_units = [100, 100, 100, 10]\n",
    "def test_4_layer(hidden_units):\n",
    "    x = tf.zeros((64, 28, 28))\n",
    "    probabilities = four_layer_FC2(hidden_units)(x)\n",
    "    print(probabilities.shape)\n",
    "    \n",
    "test_4_layer(hidden_units)"
   ]
  },
  {
   "cell_type": "code",
   "execution_count": 20,
   "metadata": {},
   "outputs": [],
   "source": [
    "# Create the model\n",
    "model = four_layer_FC2(hidden_units)"
   ]
  },
  {
   "cell_type": "code",
   "execution_count": 24,
   "metadata": {},
   "outputs": [],
   "source": [
    "# Let define the loss and optimization approach\n",
    "loss_ = tf.keras.losses.SparseCategoricalCrossentropy()\n",
    "optimiser = tf.keras.optimizers.Adam()\n",
    "# optimiser = tf.keras.optimizers.SGD()\n",
    "\n",
    "# Define the metrics\n",
    "train_loss = tf.keras.metrics.Mean(name='train_loss')\n",
    "train_accuracy = tf.keras.metrics.SparseCategoricalAccuracy(name='train_accuracy')\n",
    "\n",
    "test_loss = tf.keras.metrics.Mean(name='test_loss')\n",
    "test_accuracy = tf.keras.metrics.SparseCategoricalAccuracy(name='test_accuracy')"
   ]
  },
  {
   "cell_type": "code",
   "execution_count": 25,
   "metadata": {},
   "outputs": [],
   "source": [
    "# Now define the training step function\n",
    "''' With automatic differentiation Tf uses tapes\n",
    "Tensorflow \"records\" all operations executed inside the context of a tf.GradientTape onto a \"tape\". \n",
    "Tensorflow then uses that tape and the gradients associated with each recorded operation to compute the \n",
    "gradients of a \"recorded\" computation using reverse mode differentiation.'''\n",
    "def train_FC_model(x, y):\n",
    "    with tf.GradientTape() as tape:\n",
    "        preds = model(x)\n",
    "        loss = loss_(y, preds)\n",
    "    grads = tape.gradient(loss, model.trainable_variables)\n",
    "    optimiser.apply_gradients(zip(grads, model.trainable_variables))\n",
    "\n",
    "    train_loss(loss)\n",
    "    train_accuracy(y, preds)   \n"
   ]
  },
  {
   "cell_type": "code",
   "execution_count": 26,
   "metadata": {},
   "outputs": [],
   "source": [
    "def test_step(x, y):\n",
    "    preds = model(x)\n",
    "    t_loss = loss_(y, preds)\n",
    "\n",
    "    test_loss(t_loss)\n",
    "    test_accuracy(y, preds)"
   ]
  },
  {
   "cell_type": "code",
   "execution_count": 29,
   "metadata": {},
   "outputs": [
    {
     "name": "stdout",
     "output_type": "stream",
     "text": [
      "Epoch number: 0\n",
      "Iteration: 0 Loss: 0.015844 Train Accuracy: 0.994141 Test Accuray: 0.975700\n",
      "Iteration: 100 Loss: 0.008404 Train Accuracy: 0.997757 Test Accuray: 0.978050\n",
      "Epoch number: 1\n",
      "Iteration: 0 Loss: 0.002882 Train Accuracy: 1.000000 Test Accuray: 0.980500\n",
      "Iteration: 100 Loss: 0.004485 Train Accuracy: 0.999130 Test Accuray: 0.980550\n",
      "Epoch number: 2\n",
      "Iteration: 0 Loss: 0.002756 Train Accuracy: 1.000000 Test Accuray: 0.980200\n",
      "Iteration: 100 Loss: 0.003285 Train Accuracy: 0.999555 Test Accuray: 0.980400\n",
      "Epoch number: 3\n",
      "Iteration: 0 Loss: 0.002738 Train Accuracy: 1.000000 Test Accuray: 0.981000\n",
      "Iteration: 100 Loss: 0.002582 Train Accuracy: 0.999710 Test Accuray: 0.980700\n",
      "Epoch number: 4\n",
      "Iteration: 0 Loss: 0.004156 Train Accuracy: 1.000000 Test Accuray: 0.979900\n",
      "Iteration: 100 Loss: 0.002137 Train Accuracy: 0.999787 Test Accuray: 0.979900\n"
     ]
    }
   ],
   "source": [
    "total_epochs = 5\n",
    "print_every = 100\n",
    "for epoch in range(total_epochs):\n",
    "    \n",
    "    print('Epoch number:', epoch)                        \n",
    "    \n",
    "    for iteration, (x, y) in enumerate(train_ds):\n",
    "        train_FC_model(x, y)\n",
    "       \n",
    "        if iteration % print_every == 0:\n",
    "            for test_images, test_labels in test_ds:\n",
    "                test_step(test_images, test_labels)\n",
    "            print('Iteration: %d Loss: %f Train Accuracy: %f Test Accuray: %f' \n",
    "                 %(iteration, train_loss.result(), train_accuracy.result(), test_accuracy.result()))\n",
    "\n",
    "  # Reset metrics\n",
    "    train_loss.reset_states()\n",
    "    train_accuracy.reset_states()\n",
    "    test_loss.reset_states()\n",
    "    test_accuracy.reset_states()"
   ]
  },
  {
   "cell_type": "code",
   "execution_count": 34,
   "metadata": {},
   "outputs": [
    {
     "name": "stdout",
     "output_type": "stream",
     "text": [
      "The predicted number is:  8\n"
     ]
    },
    {
     "data": {
      "image/png": "[encoded data removed]",
      "text/plain": [
       "<Figure size 432x288 with 1 Axes>"
      ]
     },
     "metadata": {
      "needs_background": "light"
     },
     "output_type": "display_data"
    }
   ],
   "source": [
    "# Let us test the result\n",
    "idx = np.random.randint(10000)\n",
    "\n",
    "plt.imshow(x_test[idx])\n",
    "print('The predicted number is: ', np.argmax(model.predict(x_test[idx].reshape(1,28,28))))"
   ]
  },
  {
   "cell_type": "code",
   "execution_count": null,
   "metadata": {},
   "outputs": [],
   "source": []
  }
 ],
 "metadata": {
  "kernelspec": {
   "display_name": "Python 3",
   "language": "python",
   "name": "python3"
  },
  "language_info": {
   "codemirror_mode": {
    "name": "ipython",
    "version": 3
   },
   "file_extension": ".py",
   "mimetype": "text/x-python",
   "name": "python",
   "nbconvert_exporter": "python",
   "pygments_lexer": "ipython3",
   "version": "3.6.8"
  }
 },
 "nbformat": 4,
 "nbformat_minor": 2
}
